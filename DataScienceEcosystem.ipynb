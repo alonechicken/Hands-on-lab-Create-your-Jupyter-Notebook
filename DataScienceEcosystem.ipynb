{
 "cells": [
  {
   "cell_type": "markdown",
   "id": "9ab595f5-371c-40b5-975b-71c70dbd4c46",
   "metadata": {},
   "source": [
    "# Data Science Tools and Ecosystem\n"
   ]
  },
  {
   "cell_type": "markdown",
   "id": "c1bd1b2b-c528-41f3-a829-12cb4f81330f",
   "metadata": {},
   "source": [
    "## Author:\n",
    "David Fu"
   ]
  },
  {
   "cell_type": "markdown",
   "id": "eb2f02f9-3ebf-45b7-838d-e07dbe97445c",
   "metadata": {},
   "source": [
    "In this notebook, Data Science Tools and Ecosystem are summarized."
   ]
  },
  {
   "cell_type": "markdown",
   "id": "0257d03e-73ed-4fdd-abcc-5b85673cfd5f",
   "metadata": {},
   "source": [
    "Objectives:\n",
    "- List popular languages for Data Science\n",
    "- Demonstrate proficiency in Data Science toolkit knowledge\n",
    "- Create a Jupyter Notebook with markdown and code cells\n",
    "- Describe the basic Jupyter architecture.\n",
    "- Share your Jupyter Notebook publicly on GitHub\n"
   ]
  },
  {
   "cell_type": "markdown",
   "id": "903245e4-fd0f-4337-8df2-9af01f1513c5",
   "metadata": {},
   "source": [
    "Some of the popular languages that Data Scientists use are:\n",
    "1. Python\n",
    "2. R\n",
    "3. SQL\n",
    "4. Julia"
   ]
  },
  {
   "cell_type": "markdown",
   "id": "f6c5f5e6-064c-42d0-93e1-7715a60b759f",
   "metadata": {},
   "source": [
    "Some of the commonly used libraries used by Data Scientists include:\n",
    "1. Pandas\n",
    "2. SciPy\n",
    "3. TensorFlow\n",
    "4. Matplotlib"
   ]
  },
  {
   "cell_type": "markdown",
   "id": "b4352521-7a31-4d3b-88a8-534826d8a821",
   "metadata": {},
   "source": [
    "| Data Science Tools |\n",
    "|--------------------|\n",
    "| Jupyter Notebook |\n",
    "| RStudio |\n",
    "| Apache Spark |"
   ]
  },
  {
   "cell_type": "markdown",
   "id": "131076a6-de13-4e82-a40e-f00283b55105",
   "metadata": {},
   "source": [
    "*** Below are a few examples of evaluating arithmetic expressions in Python"
   ]
  },
  {
   "cell_type": "code",
   "execution_count": 3,
   "id": "4ee908e8-6bc7-4dd5-a747-f1363dbf69ac",
   "metadata": {},
   "outputs": [
    {
     "data": {
      "text/plain": [
       "17"
      ]
     },
     "execution_count": 3,
     "metadata": {},
     "output_type": "execute_result"
    }
   ],
   "source": [
    "(3*4)+5\n",
    "# This is a simple arithmetic expression to multiply then add integers"
   ]
  },
  {
   "cell_type": "code",
   "execution_count": 5,
   "id": "383e6b59-7908-49d0-a816-e278c62842c6",
   "metadata": {},
   "outputs": [
    {
     "name": "stdout",
     "output_type": "stream",
     "text": [
      "3.3333333333333335\n"
     ]
    }
   ],
   "source": [
    "# This will convert 200 minutes to hours by dividing by 60\n",
    "min = 200\n",
    "hr = min/60\n",
    "print (hr)"
   ]
  },
  {
   "cell_type": "code",
   "execution_count": null,
   "id": "5d60a47c-a584-4aa9-817c-0f79701cc827",
   "metadata": {},
   "outputs": [],
   "source": []
  }
 ],
 "metadata": {
  "kernelspec": {
   "display_name": "Python 3 (ipykernel)",
   "language": "python",
   "name": "python3"
  },
  "language_info": {
   "codemirror_mode": {
    "name": "ipython",
    "version": 3
   },
   "file_extension": ".py",
   "mimetype": "text/x-python",
   "name": "python",
   "nbconvert_exporter": "python",
   "pygments_lexer": "ipython3",
   "version": "3.11.5"
  }
 },
 "nbformat": 4,
 "nbformat_minor": 5
}
